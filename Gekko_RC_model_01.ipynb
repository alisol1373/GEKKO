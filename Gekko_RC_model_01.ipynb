{
  "nbformat": 4,
  "nbformat_minor": 0,
  "metadata": {
    "colab": {
      "provenance": [],
      "authorship_tag": "ABX9TyNwfB9AWsHF87ne4shFvdPX",
      "include_colab_link": true
    },
    "kernelspec": {
      "name": "python3",
      "display_name": "Python 3"
    },
    "language_info": {
      "name": "python"
    }
  },
  "cells": [
    {
      "cell_type": "markdown",
      "metadata": {
        "id": "view-in-github",
        "colab_type": "text"
      },
      "source": [
        "<a href=\"https://colab.research.google.com/github/alisol1373/GEKKO/blob/main/Gekko_RC_model_01.ipynb\" target=\"_parent\"><img src=\"https://colab.research.google.com/assets/colab-badge.svg\" alt=\"Open In Colab\"/></a>"
      ]
    },
    {
      "cell_type": "code",
      "source": [
        "pip install gekko"
      ],
      "metadata": {
        "colab": {
          "base_uri": "https://localhost:8080/"
        },
        "id": "BCFqrjokIeo-",
        "outputId": "86483c00-6f58-48c9-ce0b-c04815013466"
      },
      "execution_count": null,
      "outputs": [
        {
          "output_type": "stream",
          "name": "stdout",
          "text": [
            "Collecting gekko\n",
            "  Downloading gekko-1.1.1-py3-none-any.whl (13.2 MB)\n",
            "\u001b[2K     \u001b[90m━━━━━━━━━━━━━━━━━━━━━━━━━━━━━━━━━━━━━━━━\u001b[0m \u001b[32m13.2/13.2 MB\u001b[0m \u001b[31m33.1 MB/s\u001b[0m eta \u001b[36m0:00:00\u001b[0m\n",
            "\u001b[?25hRequirement already satisfied: numpy>=1.8 in /usr/local/lib/python3.10/dist-packages (from gekko) (1.25.2)\n",
            "Installing collected packages: gekko\n",
            "Successfully installed gekko-1.1.1\n"
          ]
        }
      ]
    },
    {
      "cell_type": "code",
      "execution_count": null,
      "metadata": {
        "colab": {
          "base_uri": "https://localhost:8080/",
          "height": 449
        },
        "id": "79e7BTn1IWdF",
        "outputId": "4d6eafc3-4e33-4f1b-b517-9764d4a2a5be"
      },
      "outputs": [
        {
          "output_type": "display_data",
          "data": {
            "text/plain": [
              "<Figure size 640x480 with 1 Axes>"
            ],
            "image/png": "[encoded data removed]"
          },
          "metadata": {}
        }
      ],
      "source": [
        "import numpy as np\n",
        "from gekko import GEKKO\n",
        "import matplotlib.pyplot as plt\n",
        "\n",
        "m = GEKKO()    # create GEKKO model\n",
        "k = 0.3        # constant\n",
        "y = m.Var(5.0) # create GEKKO variable\n",
        "m.Equation(y.dt()==-k*y) # create GEKKO equation\n",
        "m.time = np.linspace(0,20) # time points\n",
        "\n",
        "# solve ODE\n",
        "m.options.IMODE = 4\n",
        "m.solve(disp=False)\n",
        "\n",
        "# plot results\n",
        "plt.plot(m.time,y)\n",
        "plt.xlabel('time')\n",
        "plt.ylabel('y(t)')\n",
        "plt.show()"
      ]
    },
    {
      "cell_type": "code",
      "source": [
        "import numpy as np\n",
        "import matplotlib.pyplot as plt\n",
        "from gekko import GEKKO\n",
        "\n",
        "m = GEKKO()\n",
        "\n",
        "\n",
        "\n",
        "nt = 501\n",
        "m.time = np.linspace(0,500,nt)\n",
        "\n",
        "# Parameters\n",
        "#T = m.MV(value=362,ub=398,lb=298)\n",
        "#T.STATUS = 1  #Turn status on\n",
        "#T.DCOST = 0   #by defaulkt it has some epsilon\n",
        "#Qhp = m.MV(value=0,lb=0,ub=2,name='Qhp',integer=True)\n",
        "#Qhp.STATUS = 1  # manipulated\n",
        "#Qhp.FSTATUS = 0 # not measured\n",
        "#Qhp.DMAX = 1.0\n",
        "#Qhp.DCOST = 0\n",
        "\n",
        "\n",
        "# Variables\n",
        "x1 = m.Var(value=19,ub=20,lb=15) #\n",
        "x2 = m.Var(value=-2.65)\n",
        "x3 = m.Var(lb=0,ub=2,integer=True)\n",
        "#p = np.zeros(nt)\n",
        "#p[-1] = 1.0\n",
        "#final = m.Param(value=p)\n",
        "\n",
        "# Intermediates\n",
        "#k1 = m.Intermediate(4000*m.exp(-2500/T))\n",
        "#k2 = m.Intermediate(6.2e5*m.exp(-5000/T))\n",
        "\n",
        "# Equations\n",
        "m.Equation(x2.dt()== 2*((5 - x2)/7.37 + (x1-x2)/69.5))\n",
        "m.Equation(x1.dt()== (x2-x1)/(69.5*2.246) + x3)\n",
        "\n",
        "# Objective Function (min)\n",
        "m.Obj(np.sum(x3))\n",
        "\n",
        "m.options.IMODE = 5 # 1=APOPT, 2=BPOPT, 3=IPOPT\n",
        "m.solve() #If you want to solve it locally put \"remote\" = false\n",
        "\n",
        "print('Objective: ' + str(x3))\n",
        "\n",
        "\n",
        "\n",
        "\n",
        "plt.figure(1)\n",
        "\n",
        "plt.subplot(2,1,1)\n",
        "plt.plot(m.time,x1.value,'k:',lw=2,label=r'$x_1$')\n",
        "plt.plot(m.time,x2.value,'b-',lw=2,label=r'$x_2$')\n",
        "plt.ylabel('Value')\n",
        "plt.legend(loc='best')\n",
        "\n",
        "plt.subplot(2,1,2)\n",
        "plt.plot(m.time,x3.value,'r--',lw=2,label=r'$Q_{hp}$')\n",
        "plt.legend(loc='best')\n",
        "plt.xlabel('Time')\n",
        "plt.ylabel('Value')\n",
        "\n",
        "plt.show()"
      ],
      "metadata": {
        "colab": {
          "base_uri": "https://localhost:8080/",
          "height": 1000
        },
        "id": "ypVtcXuTTyOP",
        "outputId": "d545bd5a-5a11-4a43-f01b-9bb3255816c4"
      },
      "execution_count": null,
      "outputs": [
        {
          "output_type": "stream",
          "name": "stdout",
          "text": [
            "apm 34.83.54.189_gk_model1 <br><pre> ----------------------------------------------------------------\n",
            " APMonitor, Version 1.0.1\n",
            " APMonitor Optimization Suite\n",
            " ----------------------------------------------------------------\n",
            " \n",
            " \n",
            " --------- APM Model Size ------------\n",
            " Each time step contains\n",
            "   Objects      :            0\n",
            "   Constants    :            0\n",
            "   Variables    :            3\n",
            "   Intermediates:            0\n",
            "   Connections  :            0\n",
            "   Equations    :            3\n",
            "   Residuals    :            3\n",
            " \n",
            " Number of state variables:           2500\n",
            " Number of total equations: -         2000\n",
            " Number of slack variables: -            0\n",
            " ---------------------------------------\n",
            " Degrees of freedom       :            500\n",
            " \n",
            " **********************************************\n",
            " Dynamic Estimation with Interior Point Solver\n",
            " **********************************************\n",
            "  \n",
            "  \n",
            " Info: Exact Hessian\n",
            "\n",
            "******************************************************************************\n",
            "This program contains Ipopt, a library for large-scale nonlinear optimization.\n",
            " Ipopt is released as open source code under the Eclipse Public License (EPL).\n",
            "         For more information visit http://projects.coin-or.org/Ipopt\n",
            "******************************************************************************\n",
            "\n",
            "This is Ipopt version 3.12.10, running with linear solver ma57.\n",
            "\n",
            "Number of nonzeros in equality constraint Jacobian...:     6498\n",
            "Number of nonzeros in inequality constraint Jacobian.:        0\n",
            "Number of nonzeros in Lagrangian Hessian.............:        0\n",
            "\n",
            "Total number of variables............................:     2500\n",
            "                     variables with only lower bounds:        0\n",
            "                variables with lower and upper bounds:     1000\n",
            "                     variables with only upper bounds:        0\n",
            "Total number of equality constraints.................:     2000\n",
            "Total number of inequality constraints...............:        0\n",
            "        inequality constraints with only lower bounds:        0\n",
            "   inequality constraints with lower and upper bounds:        0\n",
            "        inequality constraints with only upper bounds:        0\n",
            "\n",
            "iter    objective    inf_pr   inf_du lg(mu)  ||d||  lg(rg) alpha_du alpha_pr  ls\n",
            "   0  4.9999950e+00 2.70e+00 9.50e-01   0.0 0.00e+00    -  0.00e+00 0.00e+00   0\n",
            "Reallocating memory for MA57: lfact (59346)\n",
            "   1  3.7198106e+01 3.55e-15 7.44e-15  -1.2 3.37e+00    -  1.00e+00 1.00e+00f  1\n",
            "   2  3.3939197e+01 7.11e-15 6.61e-15  -1.8 1.02e-01    -  1.00e+00 1.00e+00f  1\n",
            "   3  3.1251876e+01 7.11e-15 2.44e-01  -2.3 8.65e-02    -  9.92e-01 5.50e-01f  1\n",
            "   4  2.7108744e+01 7.11e-15 1.57e-01  -2.3 9.63e-02    -  1.00e+00 9.86e-01f  1\n",
            "   5  2.6526202e+01 5.33e-15 2.36e-02  -2.9 3.50e-02    -  9.96e-01 1.00e+00f  1\n",
            "   6  2.5904085e+01 7.11e-15 2.82e-02  -3.6 4.69e-02    -  9.42e-01 9.10e-01f  1\n",
            "   7  2.5815361e+01 3.55e-15 2.00e-03  -3.7 4.34e-02    -  9.36e-01 9.45e-01f  1\n",
            "   8  2.5769843e+01 7.11e-15 5.58e-03  -4.1 3.21e-02    -  9.07e-01 8.63e-01f  1\n",
            "   9  2.5746483e+01 7.11e-15 2.27e-03  -4.3 2.77e-02    -  9.62e-01 1.00e+00f  1\n",
            "iter    objective    inf_pr   inf_du lg(mu)  ||d||  lg(rg) alpha_du alpha_pr  ls\n",
            "  10  2.5733317e+01 3.55e-15 1.23e-02  -4.6 1.69e-02    -  8.03e-01 1.00e+00f  1\n",
            "  11  2.5722140e+01 3.55e-15 1.43e-03  -5.6 2.14e-02    -  1.00e+00 9.26e-01f  1\n",
            "  12  2.5722683e+01 7.11e-15 6.18e-03  -5.3 2.45e-03    -  9.30e-01 1.00e+00f  1\n",
            "  13  2.5722089e+01 7.11e-15 6.75e-15  -5.4 1.13e-03    -  1.00e+00 1.00e+00f  1\n",
            "  14  2.5720688e+01 3.55e-15 5.42e-03  -6.2 1.18e-03    -  9.94e-01 8.03e-01f  1\n",
            "  15  2.5720041e+01 3.55e-15 1.99e-05  -8.2 1.07e-03    -  1.00e+00 9.96e-01f  1\n",
            "  16  2.5720036e+01 5.33e-15 6.59e-15 -10.1 6.48e-06    -  1.00e+00 1.00e+00f  1\n",
            "\n",
            "Number of Iterations....: 16\n",
            "\n",
            "                                   (scaled)                 (unscaled)\n",
            "Objective...............:   2.5720035600685129e+01    2.5720035600685129e+01\n",
            "Dual infeasibility......:   6.5941259411112452e-15    6.5941259411112452e-15\n",
            "Constraint violation....:   5.3290705182007514e-15    5.3290705182007514e-15\n",
            "Complementarity.........:   7.4950167428928765e-11    7.4950167428928765e-11\n",
            "Overall NLP error.......:   7.4950167428928765e-11    7.4950167428928765e-11\n",
            "\n",
            "\n",
            "Number of objective function evaluations             = 17\n",
            "Number of objective gradient evaluations             = 17\n",
            "Number of equality constraint evaluations            = 17\n",
            "Number of inequality constraint evaluations          = 0\n",
            "Number of equality constraint Jacobian evaluations   = 17\n",
            "Number of inequality constraint Jacobian evaluations = 0\n",
            "Number of Lagrangian Hessian evaluations             = 16\n",
            "Total CPU secs in IPOPT (w/o function evaluations)   =      0.152\n",
            "Total CPU secs in NLP function evaluations           =      0.469\n",
            "\n",
            "EXIT: Optimal Solution Found.\n",
            " \n",
            " The solution was found.\n",
            " \n",
            " The final value of the objective function is    25.7200356006851     \n",
            " \n",
            " ---------------------------------------------------\n",
            " Solver         :  IPOPT (v3.12)\n",
            " Solution time  :   0.652399999999034      sec\n",
            " Objective      :    25.7200360934581     \n",
            " Successful solution\n",
            " ---------------------------------------------------\n",
            " \n",
            "Objective: int_v3\n"
          ]
        },
        {
          "output_type": "display_data",
          "data": {
            "text/plain": [
              "<Figure size 640x480 with 2 Axes>"
            ],
            "image/png": "[encoded data removed]"
          },
          "metadata": {}
        }
      ]
    },
    {
      "cell_type": "code",
      "source": [
        "x3"
      ],
      "metadata": {
        "colab": {
          "base_uri": "https://localhost:8080/"
        },
        "id": "6apQrSReaGoZ",
        "outputId": "92a148b3-fa27-4acc-bf11-254509fda4d2"
      },
      "execution_count": null,
      "outputs": [
        {
          "output_type": "execute_result",
          "data": {
            "text/plain": [
              "[0.0, 0.0, 0.0, 0.0, 0.0, 0.0, 0.0, 0.0, 0.0, 0.0, 0.0, 0.0, 0.0, 0.0, 0.0, 0.0, 0.0, 0.0, 0.0, 0.0, 0.0, 0.0, 0.0, 0.0, 0.0, 0.0, 0.0, 0.0, 0.0, 0.0, 0.0, 0.0, 0.0, 0.0, 0.0, 0.0, 0.0, 0.0, 0.0, 0.0, 0.0, 0.0, 0.0, 0.0, 0.0, 0.0, 0.0, 0.0, 0.0, 0.0, 0.0, 0.0, 0.0, 0.0, 0.0, 3.0142775227e-09, 0.0036673594128, 0.057829257102, 0.057850353338, 0.057866579681, 0.057879060079, 0.057888659296, 0.057896042472, 0.057901721194, 0.057906088947, 0.057909448376, 0.057912032259, 0.057914019636, 0.057915548215, 0.057916723911, 0.05791762819, 0.05791832371, 0.057918858665, 0.057919270123, 0.057919586592, 0.057919830003, 0.057920017221, 0.057920161218, 0.057920271973, 0.057920357159, 0.057920422679, 0.057920473074, 0.057920511834, 0.057920541647, 0.057920564577, 0.057920582214, 0.057920595779, 0.057920606212, 0.057920614237, 0.057920620409, 0.057920625156, 0.057920628808, 0.057920631616, 0.057920633776, 0.057920635438, 0.057920636716, 0.057920637699, 0.057920638455, 0.057920639036, 0.057920639483, 0.057920639827, 0.057920640092, 0.057920640295, 0.057920640452, 0.057920640572, 0.057920640665, 0.057920640736, 0.057920640791, 0.057920640833, 0.057920640865, 0.05792064089, 0.057920640909, 0.057920640924, 0.057920640935, 0.057920640944, 0.057920640951, 0.057920640956, 0.05792064096, 0.057920640963, 0.057920640965, 0.057920640967, 0.057920640969, 0.05792064097, 0.05792064097, 0.057920640971, 0.057920640972, 0.057920640972, 0.057920640972, 0.057920640972, 0.057920640973, 0.057920640973, 0.057920640973, 0.057920640973, 0.057920640973, 0.057920640973, 0.057920640973, 0.057920640973, 0.057920640973, 0.057920640973, 0.057920640973, 0.057920640973, 0.057920640973, 0.057920640973, 0.057920640973, 0.057920640973, 0.057920640973, 0.057920640973, 0.057920640973, 0.057920640973, 0.057920640973, 0.057920640973, 0.057920640973, 0.057920640973, 0.057920640973, 0.057920640973, 0.057920640973, 0.057920640973, 0.057920640973, 0.057920640973, 0.057920640973, 0.057920640973, 0.057920640973, 0.057920640973, 0.057920640973, 0.057920640973, 0.057920640973, 0.057920640973, 0.057920640973, 0.057920640973, 0.057920640973, 0.057920640973, 0.057920640973, 0.057920640973, 0.057920640973, 0.057920640973, 0.057920640973, 0.057920640973, 0.057920640973, 0.057920640973, 0.057920640973, 0.057920640973, 0.057920640973, 0.057920640973, 0.057920640973, 0.057920640973, 0.057920640973, 0.057920640973, 0.057920640973, 0.057920640973, 0.057920640973, 0.057920640973, 0.057920640973, 0.057920640973, 0.057920640973, 0.057920640973, 0.057920640973, 0.057920640973, 0.057920640973, 0.057920640973, 0.057920640973, 0.057920640973, 0.057920640973, 0.057920640973, 0.057920640973, 0.057920640973, 0.057920640973, 0.057920640973, 0.057920640973, 0.057920640973, 0.057920640973, 0.057920640973, 0.057920640973, 0.057920640973, 0.057920640973, 0.057920640973, 0.057920640973, 0.057920640973, 0.057920640973, 0.057920640973, 0.057920640973, 0.057920640973, 0.057920640973, 0.057920640973, 0.057920640973, 0.057920640973, 0.057920640973, 0.057920640973, 0.057920640973, 0.057920640973, 0.057920640973, 0.057920640973, 0.057920640973, 0.057920640973, 0.057920640973, 0.057920640973, 0.057920640973, 0.057920640973, 0.057920640973, 0.057920640973, 0.057920640973, 0.057920640973, 0.057920640973, 0.057920640973, 0.057920640973, 0.057920640973, 0.057920640973, 0.057920640973, 0.057920640973, 0.057920640973, 0.057920640973, 0.057920640973, 0.057920640973, 0.057920640973, 0.057920640973, 0.057920640973, 0.057920640973, 0.057920640973, 0.057920640973, 0.057920640973, 0.057920640973, 0.057920640973, 0.057920640973, 0.057920640973, 0.057920640973, 0.057920640973, 0.057920640973, 0.057920640973, 0.057920640973, 0.057920640973, 0.057920640973, 0.057920640973, 0.057920640973, 0.057920640973, 0.057920640973, 0.057920640973, 0.057920640973, 0.057920640973, 0.057920640973, 0.057920640973, 0.057920640973, 0.057920640973, 0.057920640973, 0.057920640973, 0.057920640973, 0.057920640973, 0.057920640973, 0.057920640973, 0.057920640973, 0.057920640973, 0.057920640973, 0.057920640973, 0.057920640973, 0.057920640973, 0.057920640973, 0.057920640973, 0.057920640973, 0.057920640973, 0.057920640973, 0.057920640973, 0.057920640973, 0.057920640973, 0.057920640973, 0.057920640973, 0.057920640973, 0.057920640973, 0.057920640973, 0.057920640973, 0.057920640973, 0.057920640973, 0.057920640973, 0.057920640973, 0.057920640973, 0.057920640973, 0.057920640973, 0.057920640973, 0.057920640973, 0.057920640973, 0.057920640973, 0.057920640973, 0.057920640973, 0.057920640973, 0.057920640973, 0.057920640973, 0.057920640973, 0.057920640973, 0.057920640973, 0.057920640973, 0.057920640973, 0.057920640973, 0.057920640973, 0.057920640973, 0.057920640973, 0.057920640973, 0.057920640973, 0.057920640973, 0.057920640973, 0.057920640973, 0.057920640973, 0.057920640973, 0.057920640973, 0.057920640973, 0.057920640973, 0.057920640973, 0.057920640973, 0.057920640973, 0.057920640973, 0.057920640973, 0.057920640973, 0.057920640973, 0.057920640973, 0.057920640973, 0.057920640973, 0.057920640973, 0.057920640973, 0.057920640973, 0.057920640973, 0.057920640973, 0.057920640973, 0.057920640973, 0.057920640973, 0.057920640973, 0.057920640973, 0.057920640973, 0.057920640973, 0.057920640973, 0.057920640973, 0.057920640973, 0.057920640973, 0.057920640973, 0.057920640973, 0.057920640973, 0.057920640973, 0.057920640973, 0.057920640973, 0.057920640973, 0.057920640973, 0.057920640973, 0.057920640973, 0.057920640973, 0.057920640973, 0.057920640973, 0.057920640973, 0.057920640973, 0.057920640973, 0.057920640973, 0.057920640973, 0.057920640973, 0.057920640973, 0.057920640973, 0.057920640973, 0.057920640973, 0.057920640973, 0.057920640973, 0.057920640973, 0.057920640973, 0.057920640973, 0.057920640973, 0.057920640973, 0.057920640973, 0.057920640973, 0.057920640973, 0.057920640973, 0.057920640973, 0.057920640973, 0.057920640973, 0.057920640973, 0.057920640973, 0.057920640973, 0.057920640973, 0.057920640973, 0.057920640973, 0.057920640973, 0.057920640973, 0.057920640973, 0.057920640973, 0.057920640973, 0.057920640973, 0.057920640973, 0.057920640973, 0.057920640973, 0.057920640973, 0.057920640973, 0.057920640973, 0.057920640973, 0.057920640973, 0.057920640973, 0.057920640973, 0.057920640973, 0.057920640973, 0.057920640973, 0.057920640973, 0.057920640973, 0.057920640973, 0.057920640973, 0.057920640973, 0.057920640973, 0.057920640973, 0.057920640973, 0.057920640973, 0.057920640973, 0.057920640973, 0.057920640973, 0.057920640973, 0.057920640973, 0.057920640973, 0.057920640973, 0.057920640973, 0.057920640973, 0.057920640973, 0.057920640973, 0.057920640973, 0.057920640973, 0.057920640973, 0.057920640973, 0.057920640973, 0.057920640973, 0.057920640973, 0.057920640973, 0.057920640973, 0.057920640973, 0.057920640973, 0.057920640973, 0.057920640973, 0.057920640973, 0.057920640973, 0.057920640973, 0.057920640973, 0.057920640973, 0.057920640973, 0.057920640973, 0.057920640973, 0.057920640973, 0.057920640973, 0.057920640973, 0.057920640973, 0.057920640973, 0.057920640973, 0.057920640973, 0.057920640972, 0.057920640972, 0.057920640972, 0.057920640972, 0.057920640971, 0.05792064097, 0.05792064097, 0.057920640969, 0.057920640967, 0.057920640965, 0.057920640963, 0.05792064096, 0.057920640956, 0.057920640951, 0.057920640944, 0.057920640936, 0.057920640925, 0.057920640911, 0.057920640893, 0.057920640871, 0.057920640842, 0.057920640796, 0.057920629277]"
            ]
          },
          "metadata": {},
          "execution_count": 17
        }
      ]
    },
    {
      "cell_type": "code",
      "source": [
        "from gekko import GEKKO\n",
        "m = GEKKO() # Initialize gekko\n",
        "m.options.SOLVER=1  # APOPT is an MINLP solver\n",
        "\n",
        "# optional solver settings with APOPT\n",
        "m.solver_options = ['minlp_maximum_iterations 500', \\\n",
        "                    # minlp iterations with integer solution\n",
        "                    'minlp_max_iter_with_int_sol 10', \\\n",
        "                    # treat minlp as nlp\n",
        "                    'minlp_as_nlp 0', \\\n",
        "                    # nlp sub-problem max iterations\n",
        "                    'nlp_maximum_iterations 50', \\\n",
        "                    # 1 = depth first, 2 = breadth first\n",
        "                    'minlp_branch_method 1', \\\n",
        "                    # maximum deviation from whole number\n",
        "                    'minlp_integer_tol 0.05', \\\n",
        "                    # covergence tolerance\n",
        "                    'minlp_gap_tol 0.01']\n",
        "\n",
        "# Initialize variables\n",
        "x1 = m.Var(value=1,lb=1,ub=5)\n",
        "x2 = m.Var(value=5,lb=1,ub=5)\n",
        "# Integer constraints for x3 and x4\n",
        "x3 = m.Var(value=5,lb=1,ub=5,integer=True)\n",
        "x4 = m.Var(value=1,lb=1,ub=5,integer=True)\n",
        "# Equations\n",
        "m.Equation(x1*x2*x3*x4>=25)\n",
        "m.Equation(x1**2+x2**2+x3**2+x4**2==40)\n",
        "m.Obj(x1*x4*(x1+x2+x3)+x3) # Objective\n",
        "m.solve(disp=False) # Solve\n",
        "print('Results')\n",
        "print('x1: ' + str(x1.value))\n",
        "print('x2: ' + str(x2.value))\n",
        "print('x3: ' + str(x3.value))\n",
        "print('x4: ' + str(x4.value))\n",
        "print('Objective: ' + str(m.options.objfcnval))"
      ],
      "metadata": {
        "colab": {
          "base_uri": "https://localhost:8080/"
        },
        "id": "TQOPgxcGb5HQ",
        "outputId": "905bd89d-8c4e-4eb6-9b1b-564e9796f0c7"
      },
      "execution_count": null,
      "outputs": [
        {
          "output_type": "stream",
          "name": "stdout",
          "text": [
            "Results\n",
            "x1: [1.3589086474]\n",
            "x2: [4.5992789966]\n",
            "x3: [4.0]\n",
            "x4: [1.0]\n",
            "Objective: 17.532267301\n"
          ]
        }
      ]
    }
  ]
}